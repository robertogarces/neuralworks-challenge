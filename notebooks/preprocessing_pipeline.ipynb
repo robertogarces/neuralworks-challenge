{
 "cells": [
  {
   "cell_type": "code",
   "execution_count": 2,
   "metadata": {},
   "outputs": [],
   "source": [
    "import pandas as pd\n",
    "import warnings\n",
    "warnings.filterwarnings('ignore')\n",
    "import os, pickle\n",
    "from datetime import datetime"
   ]
  },
  {
   "cell_type": "code",
   "execution_count": 3,
   "metadata": {},
   "outputs": [
    {
     "data": {
      "text/html": [
       "<div>\n",
       "<style scoped>\n",
       "    .dataframe tbody tr th:only-of-type {\n",
       "        vertical-align: middle;\n",
       "    }\n",
       "\n",
       "    .dataframe tbody tr th {\n",
       "        vertical-align: top;\n",
       "    }\n",
       "\n",
       "    .dataframe thead th {\n",
       "        text-align: right;\n",
       "    }\n",
       "</style>\n",
       "<table border=\"1\" class=\"dataframe\">\n",
       "  <thead>\n",
       "    <tr style=\"text-align: right;\">\n",
       "      <th></th>\n",
       "      <th>OPERA</th>\n",
       "      <th>SIGLADES</th>\n",
       "      <th>Fecha-I</th>\n",
       "      <th>atraso_15</th>\n",
       "    </tr>\n",
       "  </thead>\n",
       "  <tbody>\n",
       "    <tr>\n",
       "      <th>0</th>\n",
       "      <td>Latin American Wings</td>\n",
       "      <td>Concepcion</td>\n",
       "      <td>2017-05-16 18:00:00</td>\n",
       "      <td>0</td>\n",
       "    </tr>\n",
       "    <tr>\n",
       "      <th>1</th>\n",
       "      <td>Sky Airline</td>\n",
       "      <td>Calama</td>\n",
       "      <td>2017-11-27 13:00:00</td>\n",
       "      <td>0</td>\n",
       "    </tr>\n",
       "    <tr>\n",
       "      <th>2</th>\n",
       "      <td>Grupo LATAM</td>\n",
       "      <td>Sao Paulo</td>\n",
       "      <td>2017-10-25 13:55:00</td>\n",
       "      <td>1</td>\n",
       "    </tr>\n",
       "    <tr>\n",
       "      <th>3</th>\n",
       "      <td>Sky Airline</td>\n",
       "      <td>Calama</td>\n",
       "      <td>2017-07-22 12:15:00</td>\n",
       "      <td>0</td>\n",
       "    </tr>\n",
       "    <tr>\n",
       "      <th>4</th>\n",
       "      <td>Sky Airline</td>\n",
       "      <td>Iquique</td>\n",
       "      <td>2017-03-18 13:35:00</td>\n",
       "      <td>0</td>\n",
       "    </tr>\n",
       "  </tbody>\n",
       "</table>\n",
       "</div>"
      ],
      "text/plain": [
       "                  OPERA    SIGLADES              Fecha-I  atraso_15\n",
       "0  Latin American Wings  Concepcion  2017-05-16 18:00:00          0\n",
       "1           Sky Airline      Calama  2017-11-27 13:00:00          0\n",
       "2           Grupo LATAM   Sao Paulo  2017-10-25 13:55:00          1\n",
       "3           Sky Airline      Calama  2017-07-22 12:15:00          0\n",
       "4           Sky Airline     Iquique  2017-03-18 13:35:00          0"
      ]
     },
     "execution_count": 3,
     "metadata": {},
     "output_type": "execute_result"
    }
   ],
   "source": [
    "# Lectura del dataset\n",
    "testing_df = pd.read_csv('testing.csv')\n",
    "testing_df.head()\n"
   ]
  },
  {
   "cell_type": "code",
   "execution_count": 9,
   "metadata": {},
   "outputs": [],
   "source": [
    "def load_pickles_from_directory(directory):\n",
    "    \"\"\"\n",
    "    Cargar todos los archivos pkl en el directorio especificado\n",
    "\n",
    "    Args:\n",
    "        directory (str): Directorio que contiene pkl files\n",
    "\n",
    "    Returns:\n",
    "        dict: Un diccionario que contiene los objetos pkl cargados, donde las claves son los nombres de archivo (sin la extensión '.pkl').\n",
    "    \"\"\"\n",
    "    pickles = {}\n",
    "    for filename in os.listdir(directory):\n",
    "        if filename.endswith('.pkl'):\n",
    "            path = os.path.join(directory, filename)\n",
    "            with open(path, 'rb') as file:\n",
    "                pickled_object = pickle.load(file)\n",
    "            key = filename[:-4]  # remove the '.pkl' extension from the filename\n",
    "            pickles[key] = pickled_object\n",
    "    return pickles\n",
    "\n",
    "\n",
    "#Funcion para crear periodo del dia\n",
    "def get_periodo_dia(fecha):\n",
    "    fecha_time = datetime.strptime(fecha, '%Y-%m-%d %H:%M:%S').time()\n",
    "    mañana_min = datetime.strptime(\"05:00\", '%H:%M').time()\n",
    "    mañana_max = datetime.strptime(\"11:59\", '%H:%M').time()\n",
    "    tarde_min = datetime.strptime(\"12:00\", '%H:%M').time()\n",
    "    tarde_max = datetime.strptime(\"18:59\", '%H:%M').time()\n",
    "    noche_min1 = datetime.strptime(\"19:00\", '%H:%M').time()\n",
    "    noche_max1 = datetime.strptime(\"23:59\", '%H:%M').time()\n",
    "    noche_min2 = datetime.strptime(\"00:00\", '%H:%M').time()\n",
    "    noche_max2 = datetime.strptime(\"4:59\", '%H:%M').time()\n",
    "    \n",
    "    if(fecha_time > mañana_min and fecha_time < mañana_max):\n",
    "        return 'mañana'\n",
    "    elif(fecha_time > tarde_min and fecha_time < tarde_max):\n",
    "        return 'tarde'\n",
    "    elif((fecha_time > noche_min1 and fecha_time < noche_max1) or\n",
    "         (fecha_time > noche_min2 and fecha_time < noche_max2)):\n",
    "        return 'noche'\n",
    "    \n",
    "def get_delay_ratios(dataset, data_pkl, tables):\n",
    "    for table in tables:\n",
    "        data = data_pkl[table]\n",
    "        try:\n",
    "            dataset = dataset.merge(data, how='left', on=data.columns[0])\n",
    "        except:\n",
    "            pass\n",
    "    return dataset"
   ]
  },
  {
   "cell_type": "code",
   "execution_count": 10,
   "metadata": {},
   "outputs": [],
   "source": [
    "#Cargar tablas\n",
    "directory = '../main/utils/delay_ratio_tables'\n",
    "utils_tables = load_pickles_from_directory(directory)\n",
    "tables = utils_tables.keys()"
   ]
  },
  {
   "cell_type": "code",
   "execution_count": 11,
   "metadata": {},
   "outputs": [],
   "source": [
    "Y = testing_df.pop('atraso_15')"
   ]
  },
  {
   "cell_type": "code",
   "execution_count": 12,
   "metadata": {},
   "outputs": [],
   "source": [
    "#Columnas necesarias para predecir\n",
    "cols = ['historical_delay_ratio_SIGLADES', 'historical_delay_ratio_OPERA',\n",
    "       'historical_delay_ratio_MES', 'historical_delay_ratio_periodo_dia',\n",
    "       'Last 1 Months_delay_ratio_OPERA', 'Last 1 Months_delay_ratio_DIA',\n",
    "       'Last 3 Months_delay_ratio_DIA']\n",
    "\n",
    "#Crear dataset para predecir\n",
    "testing_df['periodo_dia'] = testing_df['Fecha-I'].apply(get_periodo_dia)\n",
    "testing_df['DIA'] = pd.to_datetime(testing_df['Fecha-I']).dt.day\n",
    "testing_df['MES'] = pd.to_datetime(testing_df['Fecha-I']).dt.month\n",
    "testing_df = get_delay_ratios(testing_df, utils_tables, tables)\n",
    "testing_df = testing_df[cols]"
   ]
  },
  {
   "cell_type": "code",
   "execution_count": 13,
   "metadata": {},
   "outputs": [
    {
     "data": {
      "text/plain": [
       "historical_delay_ratio_SIGLADES       0.156023\n",
       "historical_delay_ratio_OPERA          0.406810\n",
       "historical_delay_ratio_MES            0.157824\n",
       "historical_delay_ratio_periodo_dia    0.197525\n",
       "Last 1 Months_delay_ratio_OPERA       0.423729\n",
       "Last 1 Months_delay_ratio_DIA         0.288770\n",
       "Last 3 Months_delay_ratio_DIA         0.240066\n",
       "Name: 0, dtype: float64"
      ]
     },
     "execution_count": 13,
     "metadata": {},
     "output_type": "execute_result"
    }
   ],
   "source": [
    "testing_df = testing_df.iloc[0]\n",
    "testing_df"
   ]
  },
  {
   "cell_type": "code",
   "execution_count": 14,
   "metadata": {},
   "outputs": [],
   "source": [
    "#Cargar modelo para predecir\n",
    "with open('../main/model/lgbm_model_late_flight_v1.pkl', 'rb') as file:\n",
    "    loaded_model = pickle.load(file)"
   ]
  },
  {
   "cell_type": "code",
   "execution_count": 15,
   "metadata": {},
   "outputs": [],
   "source": [
    "#Prediccion\n",
    "probs = loaded_model.predict(testing_df)\n",
    "y_pred = [1 if x > 0.5 else 0 for x in probs]"
   ]
  },
  {
   "cell_type": "code",
   "execution_count": 16,
   "metadata": {},
   "outputs": [
    {
     "data": {
      "text/plain": [
       "array([0.27668509])"
      ]
     },
     "execution_count": 16,
     "metadata": {},
     "output_type": "execute_result"
    }
   ],
   "source": [
    "probs"
   ]
  },
  {
   "cell_type": "code",
   "execution_count": 76,
   "metadata": {},
   "outputs": [
    {
     "name": "stdout",
     "output_type": "stream",
     "text": [
      "Reporte de clasificacion en training: \n",
      "               precision    recall  f1-score   support\n",
      "\n",
      "           0       0.83      0.99      0.90     11067\n",
      "           1       0.68      0.13      0.22      2574\n",
      "\n",
      "    accuracy                           0.82     13641\n",
      "   macro avg       0.76      0.56      0.56     13641\n",
      "weighted avg       0.80      0.82      0.77     13641\n",
      "\n"
     ]
    }
   ],
   "source": [
    "#Performance en testing sobre pipeline\n",
    "from sklearn.metrics import confusion_matrix, classification_report\n",
    "print('Reporte de clasificacion en training: \\n', classification_report(Y, y_pred))"
   ]
  },
  {
   "cell_type": "code",
   "execution_count": null,
   "metadata": {},
   "outputs": [],
   "source": []
  }
 ],
 "metadata": {
  "kernelspec": {
   "display_name": "vtm-base",
   "language": "python",
   "name": "python3"
  },
  "language_info": {
   "codemirror_mode": {
    "name": "ipython",
    "version": 3
   },
   "file_extension": ".py",
   "mimetype": "text/x-python",
   "name": "python",
   "nbconvert_exporter": "python",
   "pygments_lexer": "ipython3",
   "version": "3.9.16"
  },
  "orig_nbformat": 4
 },
 "nbformat": 4,
 "nbformat_minor": 2
}
